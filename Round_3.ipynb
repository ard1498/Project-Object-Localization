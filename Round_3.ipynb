{
  "nbformat": 4,
  "nbformat_minor": 0,
  "metadata": {
    "colab": {
      "name": "Round_3.ipynb",
      "version": "0.3.2",
      "provenance": [],
      "collapsed_sections": [],
      "toc_visible": true
    },
    "kernelspec": {
      "name": "python3",
      "display_name": "Python 3"
    },
    "accelerator": "GPU"
  },
  "cells": [
    {
      "metadata": {
        "id": "BOaun7HxUruN",
        "colab_type": "code",
        "colab": {}
      },
      "cell_type": "code",
      "source": [
        "!pip install -q kaggle"
      ],
      "execution_count": 0,
      "outputs": []
    },
    {
      "metadata": {
        "id": "5CXvTEzVVf2u",
        "colab_type": "code",
        "colab": {}
      },
      "cell_type": "code",
      "source": [
        "!mkdir -p ~/.kaggle\n",
        "!cp kaggle.json ~/.kaggle/"
      ],
      "execution_count": 0,
      "outputs": []
    },
    {
      "metadata": {
        "id": "8UYPf6egV5dc",
        "colab_type": "code",
        "outputId": "c2a407a7-3c12-429c-ee52-defe3adccaaa",
        "colab": {
          "base_uri": "https://localhost:8080/",
          "height": 462
        }
      },
      "cell_type": "code",
      "source": [
        "!kaggle datasets list"
      ],
      "execution_count": 3,
      "outputs": [
        {
          "output_type": "stream",
          "text": [
            "Warning: Your Kaggle API key is readable by other users on this system! To fix this, you can run 'chmod 600 /root/.kaggle/kaggle.json'\n",
            "ref                                                          title                                                size  lastUpdated          downloadCount  \n",
            "-----------------------------------------------------------  --------------------------------------------------  -----  -------------------  -------------  \n",
            "ronitf/heart-disease-uci                                     Heart Disease UCI                                     3KB  2018-06-25 11:33:56           7330  \n",
            "jessicali9530/stanford-dogs-dataset                          Stanford Dogs Dataset                               735MB  2019-02-13 05:45:25            344  \n",
            "karangadiya/fifa19                                           FIFA 19 complete player dataset                       2MB  2018-12-21 03:52:59           8672  \n",
            "russellyates88/suicide-rates-overview-1985-to-2016           Suicide Rates Overview 1985 to 2016                 396KB  2018-12-01 19:18:25           5428  \n",
            "iarunava/cell-images-for-detecting-malaria                   Malaria Cell Images Dataset                         337MB  2018-12-05 05:40:21           1584  \n",
            "bigquery/crypto-ethereum-classic                             Ethereum Classic Blockchain                          66GB  2019-02-05 17:41:48              0  \n",
            "vjchoudhary7/customer-segmentation-tutorial-in-python        Mall Customer Segmentation Data                       2KB  2018-08-11 07:23:02           2484  \n",
            "timoboz/stock-data-dow-jones                                 EOD data for all Dow Jones stocks                     2MB  2019-02-18 16:06:28           1399  \n",
            "mdhrumil/top-5000-youtube-channels-data-from-socialblade     Top 5000 Youtube channels data from Socialblade.    128KB  2018-09-09 14:05:54           2884  \n",
            "lava18/google-play-store-apps                                Google Play Store Apps                                2MB  2019-02-03 13:55:47          36850  \n",
            "cityofLA/los-angeles-parking-citations                       Los Angeles Parking Citations                       245MB  2019-02-18 22:18:44           1717  \n",
            "noriuk/us-education-datasets-unification-project             U.S. Education Datasets: Unification Project         84MB  2018-12-22 17:09:05           1228  \n",
            "rmisra/news-headlines-dataset-for-sarcasm-detection          News Headlines Dataset For Sarcasm Detection          2MB  2018-06-09 22:14:56           1172  \n",
            "mohansacharya/graduate-admissions                            Graduate Admissions                                   9KB  2018-12-28 10:07:14           9784  \n",
            "safegraph/census-block-group-american-community-survey-data  Census Block Group American Community Survey Data     2GB  2018-12-22 00:29:56            306  \n",
            "jessicali9530/celeba-dataset                                 CelebFaces Attributes (CelebA) Dataset                1GB  2018-06-01 20:08:48           4126  \n",
            "pavansanagapati/urban-sound-classification                   Urban Sound Classification                            6GB  2018-06-16 13:44:36           1410  \n",
            "safegraph/visit-patterns-by-census-block-group               Consumer & Visitor Insights For Neighborhoods        66MB  2018-12-19 21:31:50            464  \n",
            "anokas/kuzushiji                                             Kuzushiji-MNIST                                     318MB  2018-12-17 01:19:31            382  \n",
            "fivethirtyeight/fivethirtyeight-comic-characters-dataset     FiveThirtyEight Comic Characters Dataset            577KB  2019-02-01 15:02:23           1092  \n"
          ],
          "name": "stdout"
        }
      ]
    },
    {
      "metadata": {
        "id": "4NeX9CLro0V9",
        "colab_type": "code",
        "outputId": "e4efc9ca-d5b1-4001-c1cb-ceeff23220ac",
        "colab": {
          "base_uri": "https://localhost:8080/",
          "height": 111
        }
      },
      "cell_type": "code",
      "source": [
        "!kaggle datasets download -d ard6476/trainingandtestingdatasetwithcsvs"
      ],
      "execution_count": 4,
      "outputs": [
        {
          "output_type": "stream",
          "text": [
            "Warning: Your Kaggle API key is readable by other users on this system! To fix this, you can run 'chmod 600 /root/.kaggle/kaggle.json'\n",
            "Downloading trainingandtestingdatasetwithcsvs.zip to /content\n",
            "100% 5.08G/5.09G [00:45<00:00, 114MB/s] \n",
            "100% 5.09G/5.09G [00:45<00:00, 119MB/s]\n"
          ],
          "name": "stdout"
        }
      ]
    },
    {
      "metadata": {
        "id": "VnD5fHVCX2Te",
        "colab_type": "code",
        "colab": {}
      },
      "cell_type": "code",
      "source": [
        "import os"
      ],
      "execution_count": 0,
      "outputs": []
    },
    {
      "metadata": {
        "id": "xoG6pY5lYOtT",
        "colab_type": "code",
        "outputId": "b2b2befe-e16e-4e26-d236-272e41fef375",
        "colab": {
          "base_uri": "https://localhost:8080/",
          "height": 91
        }
      },
      "cell_type": "code",
      "source": [
        "os.listdir('../content')"
      ],
      "execution_count": 6,
      "outputs": [
        {
          "output_type": "execute_result",
          "data": {
            "text/plain": [
              "['.config',\n",
              " 'kaggle.json',\n",
              " 'trainingandtestingdatasetwithcsvs.zip',\n",
              " 'sample_data']"
            ]
          },
          "metadata": {
            "tags": []
          },
          "execution_count": 6
        }
      ]
    },
    {
      "metadata": {
        "id": "SSUzberhYyKD",
        "colab_type": "code",
        "colab": {}
      },
      "cell_type": "code",
      "source": [
        "!unzip -uq \"../content/trainingandtestingdatasetwithcsvs.zip\""
      ],
      "execution_count": 0,
      "outputs": []
    },
    {
      "metadata": {
        "id": "DaZvTj89Znf9",
        "colab_type": "code",
        "colab": {}
      },
      "cell_type": "code",
      "source": [
        "!unzip -uq \"../content/flipkartDaretoCompete.zip\""
      ],
      "execution_count": 0,
      "outputs": []
    },
    {
      "metadata": {
        "id": "4918TbnvZvQQ",
        "colab_type": "code",
        "colab": {}
      },
      "cell_type": "code",
      "source": [
        "!unzip -uq \"../content/TestImages_Round_3.zip\""
      ],
      "execution_count": 0,
      "outputs": []
    },
    {
      "metadata": {
        "id": "rZINJ4HZabW9",
        "colab_type": "code",
        "colab": {}
      },
      "cell_type": "code",
      "source": [
        "# from google.colab import drive\n",
        "# drive.mount('../content/gdrive')\n",
        "# !unzip -uq \"../content/flipkartDaretoCompete.zip\" -d \"../content/gdrive/My Drive/Object_Tracking\"\n",
        "# !unzip -uq \"../content/TestImages_Round_3.zip\" -d \"../content/gdrive/My Drive/Object_Tracking\""
      ],
      "execution_count": 0,
      "outputs": []
    },
    {
      "metadata": {
        "id": "tuX02lU1cAvx",
        "colab_type": "text"
      },
      "cell_type": "markdown",
      "source": [
        "## Now Working on the Dataset"
      ]
    },
    {
      "metadata": {
        "id": "xfNxX50DbSO4",
        "colab_type": "code",
        "colab": {}
      },
      "cell_type": "code",
      "source": [
        "import pandas as pd\n",
        "import numpy as np"
      ],
      "execution_count": 0,
      "outputs": []
    },
    {
      "metadata": {
        "id": "C0hMt1JAcnKu",
        "colab_type": "code",
        "outputId": "630a434c-9271-44ab-9bc8-4bb72f7492f2",
        "colab": {
          "base_uri": "https://localhost:8080/",
          "height": 35
        }
      },
      "cell_type": "code",
      "source": [
        "images = os.listdir('../content/TrainImages_Round_3/')\n",
        "len(images)"
      ],
      "execution_count": 12,
      "outputs": [
        {
          "output_type": "execute_result",
          "data": {
            "text/plain": [
              "24000"
            ]
          },
          "metadata": {
            "tags": []
          },
          "execution_count": 12
        }
      ]
    },
    {
      "metadata": {
        "id": "KCNRRzK4c4O7",
        "colab_type": "code",
        "outputId": "6a5fa3e4-4586-494e-d872-4dbe8e832abf",
        "colab": {
          "base_uri": "https://localhost:8080/",
          "height": 206
        }
      },
      "cell_type": "code",
      "source": [
        "df = pd.DataFrame(pd.read_csv('../content/training_set_round_3.csv'))\n",
        "df.head()"
      ],
      "execution_count": 13,
      "outputs": [
        {
          "output_type": "execute_result",
          "data": {
            "text/html": [
              "<div>\n",
              "<style scoped>\n",
              "    .dataframe tbody tr th:only-of-type {\n",
              "        vertical-align: middle;\n",
              "    }\n",
              "\n",
              "    .dataframe tbody tr th {\n",
              "        vertical-align: top;\n",
              "    }\n",
              "\n",
              "    .dataframe thead th {\n",
              "        text-align: right;\n",
              "    }\n",
              "</style>\n",
              "<table border=\"1\" class=\"dataframe\">\n",
              "  <thead>\n",
              "    <tr style=\"text-align: right;\">\n",
              "      <th></th>\n",
              "      <th>image_name</th>\n",
              "      <th>x1</th>\n",
              "      <th>x2</th>\n",
              "      <th>y1</th>\n",
              "      <th>y2</th>\n",
              "    </tr>\n",
              "  </thead>\n",
              "  <tbody>\n",
              "    <tr>\n",
              "      <th>0</th>\n",
              "      <td>JPEG_20160517_140621_1000651031832.png</td>\n",
              "      <td>78</td>\n",
              "      <td>446</td>\n",
              "      <td>83</td>\n",
              "      <td>422</td>\n",
              "    </tr>\n",
              "    <tr>\n",
              "      <th>1</th>\n",
              "      <td>1473231510890DeeplearnS11456.png</td>\n",
              "      <td>73</td>\n",
              "      <td>567</td>\n",
              "      <td>146</td>\n",
              "      <td>351</td>\n",
              "    </tr>\n",
              "    <tr>\n",
              "      <th>2</th>\n",
              "      <td>1476881557883Untitled1.png</td>\n",
              "      <td>13</td>\n",
              "      <td>561</td>\n",
              "      <td>124</td>\n",
              "      <td>362</td>\n",
              "    </tr>\n",
              "    <tr>\n",
              "      <th>3</th>\n",
              "      <td>1474264827890cobalt-beyond-the-sea-maxi-dress3...</td>\n",
              "      <td>0</td>\n",
              "      <td>640</td>\n",
              "      <td>140</td>\n",
              "      <td>330</td>\n",
              "    </tr>\n",
              "    <tr>\n",
              "      <th>4</th>\n",
              "      <td>JPEG_20160711_113321_1000235741992.png</td>\n",
              "      <td>217</td>\n",
              "      <td>442</td>\n",
              "      <td>65</td>\n",
              "      <td>465</td>\n",
              "    </tr>\n",
              "  </tbody>\n",
              "</table>\n",
              "</div>"
            ],
            "text/plain": [
              "                                          image_name   x1   x2   y1   y2\n",
              "0             JPEG_20160517_140621_1000651031832.png   78  446   83  422\n",
              "1                   1473231510890DeeplearnS11456.png   73  567  146  351\n",
              "2                         1476881557883Untitled1.png   13  561  124  362\n",
              "3  1474264827890cobalt-beyond-the-sea-maxi-dress3...    0  640  140  330\n",
              "4             JPEG_20160711_113321_1000235741992.png  217  442   65  465"
            ]
          },
          "metadata": {
            "tags": []
          },
          "execution_count": 13
        }
      ]
    },
    {
      "metadata": {
        "id": "NORgUkbSdEj8",
        "colab_type": "code",
        "outputId": "e47e29b3-711a-4e6a-fe0a-f86d4d3c2128",
        "colab": {
          "base_uri": "https://localhost:8080/",
          "height": 300
        }
      },
      "cell_type": "code",
      "source": [
        "df.describe()"
      ],
      "execution_count": 14,
      "outputs": [
        {
          "output_type": "execute_result",
          "data": {
            "text/html": [
              "<div>\n",
              "<style scoped>\n",
              "    .dataframe tbody tr th:only-of-type {\n",
              "        vertical-align: middle;\n",
              "    }\n",
              "\n",
              "    .dataframe tbody tr th {\n",
              "        vertical-align: top;\n",
              "    }\n",
              "\n",
              "    .dataframe thead th {\n",
              "        text-align: right;\n",
              "    }\n",
              "</style>\n",
              "<table border=\"1\" class=\"dataframe\">\n",
              "  <thead>\n",
              "    <tr style=\"text-align: right;\">\n",
              "      <th></th>\n",
              "      <th>x1</th>\n",
              "      <th>x2</th>\n",
              "      <th>y1</th>\n",
              "      <th>y2</th>\n",
              "    </tr>\n",
              "  </thead>\n",
              "  <tbody>\n",
              "    <tr>\n",
              "      <th>count</th>\n",
              "      <td>24000.000000</td>\n",
              "      <td>24000.000000</td>\n",
              "      <td>24000.000000</td>\n",
              "      <td>24000.000000</td>\n",
              "    </tr>\n",
              "    <tr>\n",
              "      <th>mean</th>\n",
              "      <td>95.479833</td>\n",
              "      <td>543.997083</td>\n",
              "      <td>89.421792</td>\n",
              "      <td>389.878708</td>\n",
              "    </tr>\n",
              "    <tr>\n",
              "      <th>std</th>\n",
              "      <td>78.983754</td>\n",
              "      <td>80.296679</td>\n",
              "      <td>62.151499</td>\n",
              "      <td>62.407920</td>\n",
              "    </tr>\n",
              "    <tr>\n",
              "      <th>min</th>\n",
              "      <td>-1.000000</td>\n",
              "      <td>145.000000</td>\n",
              "      <td>-1.000000</td>\n",
              "      <td>80.000000</td>\n",
              "    </tr>\n",
              "    <tr>\n",
              "      <th>25%</th>\n",
              "      <td>29.000000</td>\n",
              "      <td>487.000000</td>\n",
              "      <td>43.000000</td>\n",
              "      <td>346.000000</td>\n",
              "    </tr>\n",
              "    <tr>\n",
              "      <th>50%</th>\n",
              "      <td>78.000000</td>\n",
              "      <td>560.000000</td>\n",
              "      <td>87.000000</td>\n",
              "      <td>392.000000</td>\n",
              "    </tr>\n",
              "    <tr>\n",
              "      <th>75%</th>\n",
              "      <td>151.000000</td>\n",
              "      <td>611.000000</td>\n",
              "      <td>134.000000</td>\n",
              "      <td>435.000000</td>\n",
              "    </tr>\n",
              "    <tr>\n",
              "      <th>max</th>\n",
              "      <td>524.000000</td>\n",
              "      <td>2492.000000</td>\n",
              "      <td>3955.000000</td>\n",
              "      <td>3955.000000</td>\n",
              "    </tr>\n",
              "  </tbody>\n",
              "</table>\n",
              "</div>"
            ],
            "text/plain": [
              "                 x1            x2            y1            y2\n",
              "count  24000.000000  24000.000000  24000.000000  24000.000000\n",
              "mean      95.479833    543.997083     89.421792    389.878708\n",
              "std       78.983754     80.296679     62.151499     62.407920\n",
              "min       -1.000000    145.000000     -1.000000     80.000000\n",
              "25%       29.000000    487.000000     43.000000    346.000000\n",
              "50%       78.000000    560.000000     87.000000    392.000000\n",
              "75%      151.000000    611.000000    134.000000    435.000000\n",
              "max      524.000000   2492.000000   3955.000000   3955.000000"
            ]
          },
          "metadata": {
            "tags": []
          },
          "execution_count": 14
        }
      ]
    },
    {
      "metadata": {
        "id": "UKq6D-mzdHaT",
        "colab_type": "code",
        "colab": {}
      },
      "cell_type": "code",
      "source": [
        "import cv2\n",
        "import matplotlib.pyplot as plt"
      ],
      "execution_count": 0,
      "outputs": []
    },
    {
      "metadata": {
        "id": "5apFHjPQdLj7",
        "colab_type": "code",
        "colab": {}
      },
      "cell_type": "code",
      "source": [
        "df1000 = df.copy()"
      ],
      "execution_count": 0,
      "outputs": []
    },
    {
      "metadata": {
        "id": "5_vAZwaBdOul",
        "colab_type": "code",
        "colab": {}
      },
      "cell_type": "code",
      "source": [
        "df1000.insert(column='np_image',value = ([cv2.resize(cv2.imread('../content/TrainImages_Round_3/' + i,0),(80,60))\n",
        "                                          for i in df1000['image_name']]), \n",
        "                                          loc = len(df1000.columns))"
      ],
      "execution_count": 0,
      "outputs": []
    },
    {
      "metadata": {
        "id": "4N96lyYidaCN",
        "colab_type": "code",
        "outputId": "f24092d1-5fe0-4a7a-a826-628a200abf2d",
        "colab": {
          "base_uri": "https://localhost:8080/",
          "height": 348
        }
      },
      "cell_type": "code",
      "source": [
        "plt.imshow(df1000['np_image'][1],cmap='gray')\n",
        "plt.show()"
      ],
      "execution_count": 18,
      "outputs": [
        {
          "output_type": "display_data",
          "data": {
            "image/png": "[encoded data removed]",
            "text/plain": [
              "<Figure size 576x396 with 1 Axes>"
            ]
          },
          "metadata": {
            "tags": []
          }
        }
      ]
    },
    {
      "metadata": {
        "id": "OetZOzc5dhuS",
        "colab_type": "code",
        "outputId": "d72347d8-add0-422f-a92e-13c80a321b62",
        "colab": {
          "base_uri": "https://localhost:8080/",
          "height": 220
        }
      },
      "cell_type": "code",
      "source": [
        "from sklearn import model_selection as ms\n",
        "X = df1000.iloc[:,-1]\n",
        "Y = df1000.iloc[:,1:-1]\n",
        "X.head(), Y.head()"
      ],
      "execution_count": 19,
      "outputs": [
        {
          "output_type": "execute_result",
          "data": {
            "text/plain": [
              "(0    [[139, 138, 139, 137, 137, 141, 141, 146, 150,...\n",
              " 1    [[205, 206, 206, 208, 209, 209, 210, 212, 211,...\n",
              " 2    [[145, 147, 151, 152, 152, 151, 152, 152, 152,...\n",
              " 3    [[195, 191, 188, 183, 181, 174, 177, 172, 191,...\n",
              " 4    [[182, 183, 183, 184, 184, 185, 184, 183, 185,...\n",
              " Name: np_image, dtype: object,     x1   x2   y1   y2\n",
              " 0   78  446   83  422\n",
              " 1   73  567  146  351\n",
              " 2   13  561  124  362\n",
              " 3    0  640  140  330\n",
              " 4  217  442   65  465)"
            ]
          },
          "metadata": {
            "tags": []
          },
          "execution_count": 19
        }
      ]
    },
    {
      "metadata": {
        "id": "og_zXPtrd2Cw",
        "colab_type": "code",
        "outputId": "20e14a47-0ded-4f1a-9a12-581ef4f8e850",
        "colab": {
          "base_uri": "https://localhost:8080/",
          "height": 35
        }
      },
      "cell_type": "code",
      "source": [
        "X_train,X_test,Y_train,Y_test = ms.train_test_split(X,Y,random_state = 10,test_size = 0.0)\n",
        "x_train = np.array(X_train)\n",
        "x_test = np.array(X_test)\n",
        "y_train = np.array(Y_train)\n",
        "y_test = np.array(Y_test)\n",
        "x_train.shape, x_test.shape, y_train.shape, y_test.shape"
      ],
      "execution_count": 20,
      "outputs": [
        {
          "output_type": "execute_result",
          "data": {
            "text/plain": [
              "((24000,), (0,), (24000, 4), (0, 4))"
            ]
          },
          "metadata": {
            "tags": []
          },
          "execution_count": 20
        }
      ]
    },
    {
      "metadata": {
        "id": "rs3YCn3feRBz",
        "colab_type": "code",
        "outputId": "3d96b5c6-de82-4264-c4f6-d877faecee7a",
        "colab": {
          "base_uri": "https://localhost:8080/",
          "height": 54
        }
      },
      "cell_type": "code",
      "source": [
        "print(x_train.shape,x_train[0].shape,type(x_train))\n",
        "x_train_for_model = np.array([x_train[i].reshape(x_train[i].shape[0],x_train[i].shape[1],1) for i in range(x_train.shape[0])])\n",
        "x_test_for_model = np.array([x_test[i].reshape(x_test[i].shape[0],x_test[i].shape[1],1) for i in range(x_test.shape[0])])\n",
        "x_train_for_model.shape, x_test_for_model.shape"
      ],
      "execution_count": 21,
      "outputs": [
        {
          "output_type": "stream",
          "text": [
            "(24000,) (60, 80) <class 'numpy.ndarray'>\n"
          ],
          "name": "stdout"
        },
        {
          "output_type": "execute_result",
          "data": {
            "text/plain": [
              "((24000, 60, 80, 1), (0,))"
            ]
          },
          "metadata": {
            "tags": []
          },
          "execution_count": 21
        }
      ]
    },
    {
      "metadata": {
        "id": "XBN2aEfVe2sr",
        "colab_type": "text"
      },
      "cell_type": "markdown",
      "source": [
        "## Now making the model for the dataset"
      ]
    },
    {
      "metadata": {
        "id": "kStuiHtUez1g",
        "colab_type": "code",
        "outputId": "b120bf2b-c37a-4be0-8cd7-cc1c3e8af82a",
        "colab": {
          "base_uri": "https://localhost:8080/",
          "height": 35
        }
      },
      "cell_type": "code",
      "source": [
        "import tensorflow as tf\n",
        "from keras.models import Sequential\n",
        "from keras.layers import Conv2D, MaxPooling2D, Dense, Dropout, Flatten, BatchNormalization, LeakyReLU, MaxPool2D\n",
        "from keras import losses,optimizers\n",
        "from keras import backend as K"
      ],
      "execution_count": 22,
      "outputs": [
        {
          "output_type": "stream",
          "text": [
            "Using TensorFlow backend.\n"
          ],
          "name": "stderr"
        }
      ]
    },
    {
      "metadata": {
        "id": "I3Rl5Qa0rBry",
        "colab_type": "code",
        "colab": {}
      },
      "cell_type": "code",
      "source": [
        "def tiny_yolo_v3():\n",
        "    model = Sequential()\n",
        "    \n",
        "    # Level 1\n",
        "    model.add(Conv2D(filters=16, kernel_size=3, strides=1, padding='same',use_bias=True,input_shape = (60,80,1)))\n",
        "    model.add(BatchNormalization())\n",
        "    model.add(LeakyReLU(alpha=0.2))\n",
        "    model.add(MaxPooling2D(pool_size=2, strides = 2, padding='SAME', data_format = 'channels_last'))\n",
        "    model.add(Dropout(rate = 0.20))\n",
        "    \n",
        "    # Level 2\n",
        "    model.add(Conv2D(filters=32, kernel_size=3, strides=1, padding='same',use_bias=True))\n",
        "    model.add(BatchNormalization())\n",
        "    model.add(LeakyReLU(alpha=0.2))\n",
        "    model.add(MaxPooling2D(pool_size=2, strides = 2, padding='SAME', data_format = 'channels_last'))\n",
        "    model.add(Dropout(rate = 0.20))\n",
        "     \n",
        "    # Level 3\n",
        "    model.add(Conv2D(filters=16, kernel_size=1, strides=1, padding='same',use_bias=True))\n",
        "    model.add(BatchNormalization())\n",
        "    model.add(LeakyReLU(alpha=0.2))\n",
        "    model.add(Conv2D(filters=128, kernel_size=3, strides=1, padding='same',use_bias=True))\n",
        "    model.add(BatchNormalization())\n",
        "    model.add(LeakyReLU(alpha=0.2))\n",
        "    model.add(Conv2D(filters=16, kernel_size=1, strides=1, padding='same',use_bias=True))\n",
        "    model.add(BatchNormalization())\n",
        "    model.add(LeakyReLU(alpha=0.2))\n",
        "    model.add(Conv2D(filters=128, kernel_size=3, strides=1, padding='same',use_bias=True))\n",
        "    model.add(BatchNormalization())\n",
        "    model.add(LeakyReLU(alpha=0.2))\n",
        "    model.add(MaxPooling2D(pool_size=2, strides = 2, padding='SAME', data_format = 'channels_last'))\n",
        "    model.add(Dropout(rate = 0.25))\n",
        "    \n",
        "    # Level 4\n",
        "    model.add(Conv2D(filters=32, kernel_size=1, strides=1, padding='same',use_bias=True))\n",
        "    model.add(BatchNormalization())\n",
        "    model.add(LeakyReLU(alpha=0.2))\n",
        "    model.add(Conv2D(filters=256, kernel_size=3, strides=1, padding='same',use_bias=True))\n",
        "    model.add(BatchNormalization())\n",
        "    model.add(LeakyReLU(alpha=0.2))\n",
        "    model.add(Conv2D(filters=32, kernel_size=1, strides=1, padding='same',use_bias=True))\n",
        "    model.add(BatchNormalization())\n",
        "    model.add(LeakyReLU(alpha=0.2))\n",
        "    model.add(Conv2D(filters=256, kernel_size=3, strides=1, padding='same',use_bias=True))\n",
        "    model.add(BatchNormalization())\n",
        "    model.add(LeakyReLU(alpha=0.2))\n",
        "    model.add(MaxPooling2D(pool_size=2, strides = 2, padding='SAME', data_format = 'channels_last'))\n",
        "    model.add(Dropout(rate = 0.25))\n",
        "    \n",
        "    # Level 5\n",
        "    model.add(Conv2D(filters=64, kernel_size=1, strides=1, padding='same',use_bias=True))\n",
        "    model.add(BatchNormalization())\n",
        "    model.add(LeakyReLU(alpha=0.2))\n",
        "    model.add(Conv2D(filters=512, kernel_size=3, strides=1, padding='same',use_bias=True))\n",
        "    model.add(BatchNormalization())\n",
        "    model.add(LeakyReLU(alpha=0.2))\n",
        "    model.add(Conv2D(filters=64, kernel_size=1, strides=1, padding='same',use_bias=True))\n",
        "    model.add(BatchNormalization())\n",
        "    model.add(LeakyReLU(alpha=0.2))\n",
        "    model.add(Conv2D(filters=512, kernel_size=3, strides=1, padding='same',use_bias=True))\n",
        "    model.add(BatchNormalization())\n",
        "    model.add(LeakyReLU(alpha=0.2))\n",
        "    model.add(MaxPooling2D(pool_size=2, strides = 2, padding='SAME', data_format = 'channels_last'))\n",
        "    model.add(Dropout(rate = 0.25))\n",
        "    \n",
        "    # Level 6\n",
        "    model.add(Conv2D(filters=128, kernel_size=1, strides=1, padding='same',use_bias=True))\n",
        "    model.add(BatchNormalization())\n",
        "    model.add(LeakyReLU(alpha=0.2))\n",
        "    model.add(Conv2D(filters=1000, kernel_size=1, strides=1, padding='same',use_bias=True))\n",
        "    model.add(BatchNormalization())\n",
        "    model.add(LeakyReLU(alpha=0.2))\n",
        "    model.add(Dropout(rate = 0.25))\n",
        "    \n",
        "    # Level 7\n",
        "    model.add(Flatten())\n",
        "    model.add(Dense(units=32))\n",
        "    model.add(LeakyReLU(alpha=0.2))\n",
        "    model.add(Dense(units=4))\n",
        "    \n",
        "    return model"
      ],
      "execution_count": 0,
      "outputs": []
    },
    {
      "metadata": {
        "id": "FlBS9un5K0WU",
        "colab_type": "code",
        "colab": {}
      },
      "cell_type": "code",
      "source": [
        "def yolo_v2():\n",
        "    model = Sequential()\n",
        "\n",
        "    # Layer 1\n",
        "    model.add(Conv2D(filters=16, kernel_size=3, strides=1, padding='same',use_bias=True,input_shape = (60,80,1)))\n",
        "    model.add(BatchNormalization())\n",
        "    model.add(LeakyReLU(alpha=0.1))\n",
        "    model.add(MaxPooling2D(pool_size=2, strides = 2, padding='SAME', data_format = 'channels_last'))\n",
        "    model.add(Dropout(rate = 0.25))\n",
        "\n",
        "    # Layer 2-5\n",
        "    for i in range(0,4):\n",
        "        model.add(Conv2D(filters=32*(2**i), kernel_size=3, strides=1, padding='same', use_bias=True))\n",
        "        model.add(BatchNormalization())\n",
        "        model.add(LeakyReLU(alpha=0.1))\n",
        "        model.add(MaxPooling2D(pool_size=2, strides = 2, padding='SAME', data_format = 'channels_last'))\n",
        "        model.add(Dropout(rate = 0.25))\n",
        "\n",
        "    # Layer 6\n",
        "    model.add(Conv2D(filters=512, kernel_size=3, strides=1, padding='same', use_bias=True))\n",
        "    model.add(BatchNormalization())\n",
        "    model.add(LeakyReLU(alpha=0.1))\n",
        "    model.add(MaxPooling2D(pool_size=2, strides = 2, padding='SAME', data_format = 'channels_last'))\n",
        "    model.add(Dropout(rate = 0.25))\n",
        "\n",
        "    # Layer 7-8\n",
        "    for i in range(2):\n",
        "        model.add(Conv2D(filters=1024, kernel_size=3, strides=1, padding='same', use_bias=True))\n",
        "        model.add(BatchNormalization())\n",
        "        model.add(LeakyReLU(alpha=0.1))\n",
        "        model.add(Dropout(rate = 0.25))\n",
        "\n",
        "    # Layer Flatten and Dense\n",
        "    model.add(Flatten())\n",
        "    model.add(Dense(units=32))\n",
        "    model.add(LeakyReLU(alpha=0.2))\n",
        "    model.add(Dense(units=4))\n",
        "\n",
        "    return model"
      ],
      "execution_count": 0,
      "outputs": []
    },
    {
      "metadata": {
        "id": "KEQ4wCoOv82F",
        "colab_type": "code",
        "colab": {}
      },
      "cell_type": "code",
      "source": [
        "def create_model():\n",
        "    model = Sequential()\n",
        "    model.add(Conv2D(filters=16,\n",
        "                     kernel_size=3, \n",
        "                     strides=1, \n",
        "                     padding='SAME', \n",
        "                     activation=tf.nn.leaky_relu, \n",
        "                     use_bias = True, \n",
        "                     input_shape = (60,80,1)))\n",
        "#                      input_shape = (480,640,1)))\n",
        "    #                  data_format = 'channels_last'))\n",
        "    model.add(MaxPool2D(pool_size=2, strides=2, padding='SAME', data_format = 'channels_last'))\n",
        "    model.add(Dropout(rate = 0.20))\n",
        "    model.add(Conv2D(filters=32, \n",
        "                     kernel_size=3, \n",
        "                     strides=1, \n",
        "                     padding='SAME', \n",
        "                     activation=tf.nn.leaky_relu, \n",
        "                     use_bias = True)) \n",
        "    #                  data_format = 'channels_last'))\n",
        "    model.add(MaxPool2D(pool_size=2, strides=2, padding='SAME', data_format = 'channels_last'))\n",
        "    model.add(Dropout(rate = 0.20))\n",
        "    model.add(Conv2D(filters=64, \n",
        "                     kernel_size=3, \n",
        "                     strides=1, \n",
        "                     padding='SAME', \n",
        "                     activation=tf.nn.leaky_relu, \n",
        "                     use_bias = True))\n",
        "    #                  data_format = 'channels_last'))\n",
        "    model.add(MaxPool2D(pool_size=2, strides=2, padding='SAME', data_format = 'channels_last'))\n",
        "    model.add(Dropout(rate = 0.20))\n",
        "    model.add(Conv2D(filters=128, \n",
        "                     kernel_size=3, \n",
        "                     strides=1, \n",
        "                     padding='SAME', \n",
        "                     activation=tf.nn.leaky_relu, \n",
        "                     use_bias = True))\n",
        "    #                  data_format = 'channels_last'))\n",
        "    model.add(MaxPool2D(pool_size=2, strides=2, padding='SAME', data_format = 'channels_last'))\n",
        "    model.add(Dropout(rate = 0.20))\n",
        "    model.add(Conv2D(filters=256, \n",
        "                     kernel_size=3, \n",
        "                     strides=1, \n",
        "                     padding='SAME', \n",
        "                     activation=tf.nn.leaky_relu, \n",
        "                     use_bias = True)) \n",
        "    #                  data_format = 'channels_last'))\n",
        "    model.add(MaxPool2D(pool_size=2, strides=2, padding='SAME', data_format = 'channels_last'))\n",
        "    model.add(Dropout(rate = 0.20))\n",
        "    model.add(Conv2D(filters=512, \n",
        "                     kernel_size=3, \n",
        "                     strides=1, \n",
        "                     padding='SAME', \n",
        "                     activation=tf.nn.leaky_relu, \n",
        "                     use_bias = True))\n",
        "    #                  data_format = 'channels_last'))\n",
        "    model.add(MaxPool2D(pool_size=1, strides=2, padding='SAME', data_format = 'channels_last'))\n",
        "    model.add(Dropout(rate = 0.20))\n",
        "    model.add(Conv2D(filters=1024, \n",
        "                     kernel_size=3, \n",
        "                     strides=1, \n",
        "                     padding='SAME', \n",
        "                     activation=tf.nn.leaky_relu, \n",
        "                     use_bias = True))\n",
        "    #                  data_format = 'channels_last'))\n",
        "    model.add(Dropout(0.20))\n",
        "    model.add(Conv2D(filters=1024, \n",
        "                     kernel_size=3, \n",
        "                     strides=1, \n",
        "                     padding='SAME', \n",
        "                     activation=tf.nn.leaky_relu, \n",
        "                     use_bias = True))\n",
        "    #                  data_format = 'channels_last'))\n",
        "    model.add(Dropout(0.20))\n",
        "    model.add(Conv2D(filters=125, \n",
        "                     kernel_size=1, \n",
        "                     strides=1,\n",
        "                     padding='SAME', \n",
        "                     activation=tf.nn.leaky_relu, \n",
        "                     use_bias = True))\n",
        "    #                  data_format = 'channels_last'))\n",
        "    model.add(Flatten())\n",
        "    model.add(Dense(units=32, activation=tf.nn.leaky_relu))\n",
        "#     model.add(Dense(units=16, activation=tf.nn.relu))\n",
        "    model.add(Dense(units=4))\n",
        "    \n",
        "    return model"
      ],
      "execution_count": 0,
      "outputs": []
    },
    {
      "metadata": {
        "id": "TdKJtjrTfXdP",
        "colab_type": "code",
        "colab": {}
      },
      "cell_type": "code",
      "source": [
        "def create_model_3():\n",
        "    model = Sequential()\n",
        "    \n",
        "    model.add(Conv2D(filters = 16, kernel_size= 3, strides = 1, padding='same', use_bias = True,input_shape = (60,80,1)))\n",
        "#     model.add(BatchNormalization())\n",
        "    model.add(LeakyReLU(alpha=0.2))\n",
        "    model.add(MaxPooling2D(pool_size=2, strides = 2, padding='same', data_format='channels_last'))\n",
        "    model.add(Dropout(rate = 0.20))\n",
        "    \n",
        "    \n",
        "    model.add(Conv2D(filters = 32, kernel_size= 3, strides = 1, padding='same', use_bias = True))\n",
        "#     model.add(BatchNormalization())\n",
        "    model.add(LeakyReLU(alpha=0.2))\n",
        "    model.add(MaxPooling2D(pool_size=2, strides = 2, padding='same', data_format='channels_last'))\n",
        "    model.add(Dropout(rate = 0.20))\n",
        "    \n",
        "    model.add(Conv2D(filters = 64, kernel_size=3, strides = 1, padding='same', use_bias = True))\n",
        "#     model.add(BatchNormalization())\n",
        "    model.add(LeakyReLU(alpha=0.2))\n",
        "    model.add(MaxPooling2D(pool_size=2, strides = 2, padding='same', data_format='channels_last'))\n",
        "    model.add(Dropout(rate = 0.20))\n",
        "    \n",
        "    model.add(Conv2D(filters = 128, kernel_size=3, strides = 1, padding='same', use_bias = True))\n",
        "#     model.add(BatchNormalization())\n",
        "    model.add(LeakyReLU(alpha=0.2))\n",
        "    model.add(Dropout(rate = 0.20))\n",
        "    \n",
        "#     model.add(Conv2D(filters = 64, kernel_size=1, strides = 1, padding='same', use_bias = True))\n",
        "#     model.add(BatchNormalization())\n",
        "#     model.add(LeakyReLU(alpha=0.3))\n",
        "#     model.add(Dropout(rate = 0.20))\n",
        "    \n",
        "#     model.add(Conv2D(filters = 128, kernel_size=3, strides = 1, padding='same', use_bias = True))\n",
        "#     model.add(BatchNormalization())\n",
        "#     model.add(LeakyReLU(alpha=0.3))\n",
        "#     model.add(Dropout(rate = 0.20))\n",
        "    \n",
        "    model.add(MaxPooling2D(pool_size=2, strides = 2, padding='same', data_format='channels_last'))\n",
        "    model.add(Dropout(rate = 0.20))\n",
        "    \n",
        "    model.add(Conv2D(filters = 256, kernel_size=3, strides = 1, padding='same', use_bias = True))\n",
        "#     model.add(BatchNormalization())\n",
        "    model.add(LeakyReLU(alpha=0.2))\n",
        "    model.add(Dropout(rate = 0.20))\n",
        "    \n",
        "#     model.add(Conv2D(filters = 128, kernel_size=1, strides = 1, padding='same', use_bias = True))\n",
        "#     model.add(BatchNormalization())\n",
        "#     model.add(LeakyReLU(alpha=0.3))\n",
        "#     model.add(Dropout(rate = 0.20))\n",
        "    \n",
        "#     model.add(Conv2D(filters = 256, kernel_size=3, strides = 1, padding='same', use_bias = True))\n",
        "#     model.add(BatchNormalization())\n",
        "#     model.add(LeakyReLU(alpha=0.3))\n",
        "#     model.add(Dropout(rate = 0.20))\n",
        "    \n",
        "    model.add(MaxPooling2D(pool_size=2, strides = 2, padding='same', data_format='channels_last'))\n",
        "    model.add(Dropout(rate = 0.20))\n",
        "    \n",
        "    model.add(Conv2D(filters = 512, kernel_size=3, strides = 1, padding='same', use_bias = True))\n",
        "#     model.add(BatchNormalization())\n",
        "    model.add(LeakyReLU(alpha=0.2))\n",
        "#     model.add(Dropout(rate = 0.20))\n",
        "    \n",
        "#     model.add(Conv2D(filters = 256, kernel_size=1, strides = 1, padding='same', use_bias = True))\n",
        "#     model.add(BatchNormalization())\n",
        "#     model.add(LeakyReLU(alpha=0.3))\n",
        "#     model.add(Dropout(rate = 0.20))\n",
        "    \n",
        "#     model.add(Conv2D(filters = 512, kernel_size=3, strides = 1, padding='same', use_bias = True))\n",
        "#     model.add(BatchNormalization())\n",
        "#     model.add(LeakyReLU(alpha=0.3))\n",
        "#     model.add(Dropout(rate = 0.20))\n",
        "    \n",
        "    model.add(MaxPooling2D(pool_size=2, strides = 2, padding='same', data_format='channels_last'))\n",
        "    model.add(Dropout(rate = 0.20))\n",
        "    \n",
        "    model.add(Conv2D(filters = 1024, kernel_size=3, strides = 1, padding='same', use_bias = True))\n",
        "#     model.add(BatchNormalization())\n",
        "    model.add(LeakyReLU(alpha=0.2))\n",
        "#     model.add(Dropout(rate = 0.20))\n",
        "    \n",
        "#     model.add(Conv2D(filters = 512, kernel_size=1, strides = 1, padding='same', use_bias = True))\n",
        "#     model.add(BatchNormalization())\n",
        "#     model.add(LeakyReLU(alpha=0.3))\n",
        "#     model.add(Dropout(rate = 0.20))\n",
        "    \n",
        "    model.add(Conv2D(filters = 1024, kernel_size=3, strides = 1, padding='same', use_bias = True))\n",
        "#     model.add(BatchNormalization())\n",
        "    model.add(LeakyReLU(alpha=0.2))\n",
        "    model.add(Dropout(rate = 0.20))\n",
        "    \n",
        "#     model.add(MaxPooling2D(pool_size=2, strides = 2, padding='same', data_format='channels_last'))\n",
        "#     model.add(Dropout(rate = 0.20))\n",
        "    \n",
        "    model.add(Conv2D(filters=125, kernel_size=1, strides = 1, padding='same', use_bias=True))\n",
        "    model.add(LeakyReLU(alpha=0.2))\n",
        "    \n",
        "    model.add(Flatten())\n",
        "    \n",
        "    model.add(Dense(units=64))\n",
        "    model.add(LeakyReLU(alpha=0.3))\n",
        "#     model.add(Dropout(rate = 0.20))\n",
        "    \n",
        "    model.add(Dense(units=4))\n",
        "    \n",
        "    return model"
      ],
      "execution_count": 0,
      "outputs": []
    },
    {
      "metadata": {
        "id": "xj_O2aRug9M6",
        "colab_type": "text"
      },
      "cell_type": "markdown",
      "source": [
        "#### The Loss Metric we are using"
      ]
    },
    {
      "metadata": {
        "id": "oZ4Hkokpf9IQ",
        "colab_type": "code",
        "colab": {}
      },
      "cell_type": "code",
      "source": [
        "def iou_loss_core(y_true, y_pred):\n",
        "    xA = K.maximum(y_true[:,0],y_pred[:,0])\n",
        "    yA = K.maximum(y_true[:,2],y_pred[:,2])\n",
        "    xB = K.minimum(y_true[:,1],y_pred[:,1])\n",
        "    yB = K.minimum(y_true[:,3],y_pred[:,3])\n",
        "    intersection_area = K.abs(xA - xB) * K.abs(yA - yB)\n",
        "    area_b1 = K.abs(y_true[:,0] - y_true[:,1]) * K.abs(y_true[:,2] - y_true[:,3])\n",
        "    area_b2 = K.abs(y_pred[:,0] - y_pred[:,1]) * K.abs(y_pred[:,2] - y_pred[:,3])\n",
        "    union = area_b1 + area_b2 - intersection_area\n",
        "    iou = K.abs(intersection_area / union)\n",
        "    one = K.variable(1.0,dtype= K.floatx())\n",
        "    zero = K.variable(0.0,dtype=K.floatx())\n",
        "    return  tf.where(K.greater(K.mean(iou),one), zero, K.mean(iou))"
      ],
      "execution_count": 0,
      "outputs": []
    },
    {
      "metadata": {
        "id": "MmgxO4wBhGRJ",
        "colab_type": "text"
      },
      "cell_type": "markdown",
      "source": [
        "#### Now setting the Callback"
      ]
    },
    {
      "metadata": {
        "id": "Jla4gjPFhDuN",
        "colab_type": "code",
        "colab": {}
      },
      "cell_type": "code",
      "source": [
        "from keras import callbacks"
      ],
      "execution_count": 0,
      "outputs": []
    },
    {
      "metadata": {
        "id": "z5v3tOjxhN7l",
        "colab_type": "code",
        "colab": {}
      },
      "cell_type": "code",
      "source": [
        "class My_callbacks(callbacks.Callback):\n",
        "    def __init__(self):\n",
        "        self.validation_data = None\n",
        "        self.model = None\n",
        "\n",
        "    def set_params(self, params):\n",
        "        self.params = params\n",
        "\n",
        "    def set_model(self, model):\n",
        "        self.model = model\n",
        "\n",
        "    def on_batch_begin(self, batch, logs=None):\n",
        "        return\n",
        "\n",
        "    def on_batch_end(self, batch, logs=None):\n",
        "        return\n",
        "\n",
        "    def on_epoch_begin(self, epoch, logs=None):\n",
        "        return\n",
        "\n",
        "    def on_epoch_end(self, epoch, logs=None):\n",
        "        count = 0\n",
        "        if logs['loss'] < 1:\n",
        "#             if count == 1:\n",
        "            self.model.stop_training = True\n",
        "#             else:\n",
        "#                 count += 1\n",
        "        return\n",
        "\n",
        "    def on_train_batch_begin(self, batch, logs=None):\n",
        "        self.on_batch_begin(batch, logs=logs)\n",
        "        return\n",
        "\n",
        "    def on_train_batch_end(self, batch, logs=None):\n",
        "        self.on_batch_end(batch, logs=logs)\n",
        "        return\n",
        "\n",
        "    def on_test_batch_begin(self, batch, logs=None):\n",
        "        return\n",
        "\n",
        "    def on_test_batch_end(self, batch, logs=None):\n",
        "        return\n",
        "\n",
        "    def on_predict_batch_begin(self, batch, logs=None):\n",
        "        return\n",
        "\n",
        "    def on_predict_batch_end(self, batch, logs=None):\n",
        "        return\n",
        "\n",
        "    def on_train_begin(self, logs=None):\n",
        "        return\n",
        "\n",
        "    def on_train_end(self, logs=None):\n",
        "        return\n",
        "\n",
        "    def on_test_begin(self, logs=None):\n",
        "        return\n",
        "\n",
        "    def on_test_end(self, logs=None):\n",
        "        return\n",
        "\n",
        "    def on_predict_begin(self, logs=None):\n",
        "        return\n",
        "\n",
        "    def on_predict_end(self, logs=None):\n",
        "        return"
      ],
      "execution_count": 0,
      "outputs": []
    },
    {
      "metadata": {
        "id": "v9fmRR7_hcUl",
        "colab_type": "code",
        "colab": {}
      },
      "cell_type": "code",
      "source": [
        "# model = create_model()\n",
        "# model = yolo_v2()\n",
        "model = tiny_yolo_v3()"
      ],
      "execution_count": 0,
      "outputs": []
    },
    {
      "metadata": {
        "id": "E19Dh6lPhidP",
        "colab_type": "code",
        "outputId": "8fc94184-7d2a-421c-892a-f3e18d2fe173",
        "colab": {
          "base_uri": "https://localhost:8080/",
          "height": 2475
        }
      },
      "cell_type": "code",
      "source": [
        "model.summary()"
      ],
      "execution_count": 91,
      "outputs": [
        {
          "output_type": "stream",
          "text": [
            "_________________________________________________________________\n",
            "Layer (type)                 Output Shape              Param #   \n",
            "=================================================================\n",
            "conv2d_145 (Conv2D)          (None, 60, 80, 16)        160       \n",
            "_________________________________________________________________\n",
            "batch_normalization_145 (Bat (None, 60, 80, 16)        64        \n",
            "_________________________________________________________________\n",
            "leaky_re_lu_154 (LeakyReLU)  (None, 60, 80, 16)        0         \n",
            "_________________________________________________________________\n",
            "max_pooling2d_46 (MaxPooling (None, 30, 40, 16)        0         \n",
            "_________________________________________________________________\n",
            "dropout_98 (Dropout)         (None, 30, 40, 16)        0         \n",
            "_________________________________________________________________\n",
            "conv2d_146 (Conv2D)          (None, 30, 40, 32)        4640      \n",
            "_________________________________________________________________\n",
            "batch_normalization_146 (Bat (None, 30, 40, 32)        128       \n",
            "_________________________________________________________________\n",
            "leaky_re_lu_155 (LeakyReLU)  (None, 30, 40, 32)        0         \n",
            "_________________________________________________________________\n",
            "max_pooling2d_47 (MaxPooling (None, 15, 20, 32)        0         \n",
            "_________________________________________________________________\n",
            "dropout_99 (Dropout)         (None, 15, 20, 32)        0         \n",
            "_________________________________________________________________\n",
            "conv2d_147 (Conv2D)          (None, 15, 20, 16)        528       \n",
            "_________________________________________________________________\n",
            "batch_normalization_147 (Bat (None, 15, 20, 16)        64        \n",
            "_________________________________________________________________\n",
            "leaky_re_lu_156 (LeakyReLU)  (None, 15, 20, 16)        0         \n",
            "_________________________________________________________________\n",
            "conv2d_148 (Conv2D)          (None, 15, 20, 128)       18560     \n",
            "_________________________________________________________________\n",
            "batch_normalization_148 (Bat (None, 15, 20, 128)       512       \n",
            "_________________________________________________________________\n",
            "leaky_re_lu_157 (LeakyReLU)  (None, 15, 20, 128)       0         \n",
            "_________________________________________________________________\n",
            "conv2d_149 (Conv2D)          (None, 15, 20, 16)        2064      \n",
            "_________________________________________________________________\n",
            "batch_normalization_149 (Bat (None, 15, 20, 16)        64        \n",
            "_________________________________________________________________\n",
            "leaky_re_lu_158 (LeakyReLU)  (None, 15, 20, 16)        0         \n",
            "_________________________________________________________________\n",
            "conv2d_150 (Conv2D)          (None, 15, 20, 128)       18560     \n",
            "_________________________________________________________________\n",
            "batch_normalization_150 (Bat (None, 15, 20, 128)       512       \n",
            "_________________________________________________________________\n",
            "leaky_re_lu_159 (LeakyReLU)  (None, 15, 20, 128)       0         \n",
            "_________________________________________________________________\n",
            "max_pooling2d_48 (MaxPooling (None, 8, 10, 128)        0         \n",
            "_________________________________________________________________\n",
            "dropout_100 (Dropout)        (None, 8, 10, 128)        0         \n",
            "_________________________________________________________________\n",
            "conv2d_151 (Conv2D)          (None, 8, 10, 32)         4128      \n",
            "_________________________________________________________________\n",
            "batch_normalization_151 (Bat (None, 8, 10, 32)         128       \n",
            "_________________________________________________________________\n",
            "leaky_re_lu_160 (LeakyReLU)  (None, 8, 10, 32)         0         \n",
            "_________________________________________________________________\n",
            "conv2d_152 (Conv2D)          (None, 8, 10, 256)        73984     \n",
            "_________________________________________________________________\n",
            "batch_normalization_152 (Bat (None, 8, 10, 256)        1024      \n",
            "_________________________________________________________________\n",
            "leaky_re_lu_161 (LeakyReLU)  (None, 8, 10, 256)        0         \n",
            "_________________________________________________________________\n",
            "conv2d_153 (Conv2D)          (None, 8, 10, 32)         8224      \n",
            "_________________________________________________________________\n",
            "batch_normalization_153 (Bat (None, 8, 10, 32)         128       \n",
            "_________________________________________________________________\n",
            "leaky_re_lu_162 (LeakyReLU)  (None, 8, 10, 32)         0         \n",
            "_________________________________________________________________\n",
            "conv2d_154 (Conv2D)          (None, 8, 10, 256)        73984     \n",
            "_________________________________________________________________\n",
            "batch_normalization_154 (Bat (None, 8, 10, 256)        1024      \n",
            "_________________________________________________________________\n",
            "leaky_re_lu_163 (LeakyReLU)  (None, 8, 10, 256)        0         \n",
            "_________________________________________________________________\n",
            "max_pooling2d_49 (MaxPooling (None, 4, 5, 256)         0         \n",
            "_________________________________________________________________\n",
            "dropout_101 (Dropout)        (None, 4, 5, 256)         0         \n",
            "_________________________________________________________________\n",
            "conv2d_155 (Conv2D)          (None, 4, 5, 64)          16448     \n",
            "_________________________________________________________________\n",
            "batch_normalization_155 (Bat (None, 4, 5, 64)          256       \n",
            "_________________________________________________________________\n",
            "leaky_re_lu_164 (LeakyReLU)  (None, 4, 5, 64)          0         \n",
            "_________________________________________________________________\n",
            "conv2d_156 (Conv2D)          (None, 4, 5, 512)         295424    \n",
            "_________________________________________________________________\n",
            "batch_normalization_156 (Bat (None, 4, 5, 512)         2048      \n",
            "_________________________________________________________________\n",
            "leaky_re_lu_165 (LeakyReLU)  (None, 4, 5, 512)         0         \n",
            "_________________________________________________________________\n",
            "conv2d_157 (Conv2D)          (None, 4, 5, 64)          32832     \n",
            "_________________________________________________________________\n",
            "batch_normalization_157 (Bat (None, 4, 5, 64)          256       \n",
            "_________________________________________________________________\n",
            "leaky_re_lu_166 (LeakyReLU)  (None, 4, 5, 64)          0         \n",
            "_________________________________________________________________\n",
            "conv2d_158 (Conv2D)          (None, 4, 5, 512)         295424    \n",
            "_________________________________________________________________\n",
            "batch_normalization_158 (Bat (None, 4, 5, 512)         2048      \n",
            "_________________________________________________________________\n",
            "leaky_re_lu_167 (LeakyReLU)  (None, 4, 5, 512)         0         \n",
            "_________________________________________________________________\n",
            "max_pooling2d_50 (MaxPooling (None, 2, 3, 512)         0         \n",
            "_________________________________________________________________\n",
            "dropout_102 (Dropout)        (None, 2, 3, 512)         0         \n",
            "_________________________________________________________________\n",
            "conv2d_159 (Conv2D)          (None, 2, 3, 128)         65664     \n",
            "_________________________________________________________________\n",
            "batch_normalization_159 (Bat (None, 2, 3, 128)         512       \n",
            "_________________________________________________________________\n",
            "leaky_re_lu_168 (LeakyReLU)  (None, 2, 3, 128)         0         \n",
            "_________________________________________________________________\n",
            "conv2d_160 (Conv2D)          (None, 2, 3, 1000)        129000    \n",
            "_________________________________________________________________\n",
            "batch_normalization_160 (Bat (None, 2, 3, 1000)        4000      \n",
            "_________________________________________________________________\n",
            "leaky_re_lu_169 (LeakyReLU)  (None, 2, 3, 1000)        0         \n",
            "_________________________________________________________________\n",
            "dropout_103 (Dropout)        (None, 2, 3, 1000)        0         \n",
            "_________________________________________________________________\n",
            "flatten_10 (Flatten)         (None, 6000)              0         \n",
            "_________________________________________________________________\n",
            "dense_19 (Dense)             (None, 32)                192032    \n",
            "_________________________________________________________________\n",
            "leaky_re_lu_170 (LeakyReLU)  (None, 32)                0         \n",
            "_________________________________________________________________\n",
            "dense_20 (Dense)             (None, 4)                 132       \n",
            "=================================================================\n",
            "Total params: 1,244,556\n",
            "Trainable params: 1,238,172\n",
            "Non-trainable params: 6,384\n",
            "_________________________________________________________________\n"
          ],
          "name": "stdout"
        }
      ]
    },
    {
      "metadata": {
        "id": "zrJQyFH7iQhw",
        "colab_type": "code",
        "colab": {}
      },
      "cell_type": "code",
      "source": [
        "model.compile(loss = tf.losses.huber_loss, optimizer = optimizers.Nadam(lr = 0.0009),metrics = [iou_loss_core])"
      ],
      "execution_count": 0,
      "outputs": []
    },
    {
      "metadata": {
        "id": "B_rk4G6-iraD",
        "colab_type": "code",
        "outputId": "747261fe-7567-4cb6-c836-28b6c5d0f149",
        "colab": {
          "base_uri": "https://localhost:8080/",
          "height": 3732
        }
      },
      "cell_type": "code",
      "source": [
        "model.fit(x_train_for_model,y_train, epochs=100, batch_size= 50, callbacks=[My_callbacks()])"
      ],
      "execution_count": 93,
      "outputs": [
        {
          "output_type": "stream",
          "text": [
            "Epoch 1/100\n",
            "24000/24000 [==============================] - 46s 2ms/step - loss: 39.4313 - iou_loss_core: 0.6848\n",
            "Epoch 2/100\n",
            "24000/24000 [==============================] - 34s 1ms/step - loss: 19.8812 - iou_loss_core: 0.7936\n",
            "Epoch 3/100\n",
            "24000/24000 [==============================] - 34s 1ms/step - loss: 17.8359 - iou_loss_core: 0.8115\n",
            "Epoch 4/100\n",
            "24000/24000 [==============================] - 34s 1ms/step - loss: 16.5497 - iou_loss_core: 0.8229\n",
            "Epoch 5/100\n",
            "24000/24000 [==============================] - 34s 1ms/step - loss: 15.7242 - iou_loss_core: 0.8301\n",
            "Epoch 6/100\n",
            "24000/24000 [==============================] - 34s 1ms/step - loss: 15.0998 - iou_loss_core: 0.8355\n",
            "Epoch 7/100\n",
            "24000/24000 [==============================] - 34s 1ms/step - loss: 14.4387 - iou_loss_core: 0.8417\n",
            "Epoch 8/100\n",
            "24000/24000 [==============================] - 34s 1ms/step - loss: 14.0557 - iou_loss_core: 0.8448\n",
            "Epoch 9/100\n",
            "24000/24000 [==============================] - 34s 1ms/step - loss: 13.5479 - iou_loss_core: 0.8500\n",
            "Epoch 10/100\n",
            "24000/24000 [==============================] - 34s 1ms/step - loss: 13.1128 - iou_loss_core: 0.8539\n",
            "Epoch 11/100\n",
            "24000/24000 [==============================] - 34s 1ms/step - loss: 12.8895 - iou_loss_core: 0.8559\n",
            "Epoch 12/100\n",
            "24000/24000 [==============================] - 34s 1ms/step - loss: 12.5734 - iou_loss_core: 0.8586\n",
            "Epoch 13/100\n",
            "24000/24000 [==============================] - 34s 1ms/step - loss: 12.3087 - iou_loss_core: 0.8610\n",
            "Epoch 14/100\n",
            "24000/24000 [==============================] - 34s 1ms/step - loss: 12.0545 - iou_loss_core: 0.8636\n",
            "Epoch 15/100\n",
            "24000/24000 [==============================] - 34s 1ms/step - loss: 11.8820 - iou_loss_core: 0.8649\n",
            "Epoch 16/100\n",
            "24000/24000 [==============================] - 34s 1ms/step - loss: 11.6450 - iou_loss_core: 0.8672\n",
            "Epoch 17/100\n",
            "24000/24000 [==============================] - 34s 1ms/step - loss: 11.3831 - iou_loss_core: 0.8697\n",
            "Epoch 18/100\n",
            "24000/24000 [==============================] - 34s 1ms/step - loss: 11.2029 - iou_loss_core: 0.8712\n",
            "Epoch 19/100\n",
            "24000/24000 [==============================] - 34s 1ms/step - loss: 11.0396 - iou_loss_core: 0.8727\n",
            "Epoch 20/100\n",
            "24000/24000 [==============================] - 34s 1ms/step - loss: 10.9102 - iou_loss_core: 0.8742\n",
            "Epoch 21/100\n",
            "24000/24000 [==============================] - 34s 1ms/step - loss: 10.8721 - iou_loss_core: 0.8743\n",
            "Epoch 22/100\n",
            "24000/24000 [==============================] - 34s 1ms/step - loss: 10.6343 - iou_loss_core: 0.8766\n",
            "Epoch 23/100\n",
            "24000/24000 [==============================] - 34s 1ms/step - loss: 10.4884 - iou_loss_core: 0.8776\n",
            "Epoch 24/100\n",
            "24000/24000 [==============================] - 34s 1ms/step - loss: 10.3649 - iou_loss_core: 0.8790\n",
            "Epoch 25/100\n",
            "24000/24000 [==============================] - 34s 1ms/step - loss: 10.2638 - iou_loss_core: 0.8798\n",
            "Epoch 26/100\n",
            "24000/24000 [==============================] - 34s 1ms/step - loss: 10.1132 - iou_loss_core: 0.8813\n",
            "Epoch 27/100\n",
            "24000/24000 [==============================] - 34s 1ms/step - loss: 10.0583 - iou_loss_core: 0.8818\n",
            "Epoch 28/100\n",
            "24000/24000 [==============================] - 34s 1ms/step - loss: 9.8780 - iou_loss_core: 0.8837\n",
            "Epoch 29/100\n",
            "24000/24000 [==============================] - 34s 1ms/step - loss: 9.7608 - iou_loss_core: 0.8844\n",
            "Epoch 30/100\n",
            "24000/24000 [==============================] - 34s 1ms/step - loss: 9.7502 - iou_loss_core: 0.8846\n",
            "Epoch 31/100\n",
            "24000/24000 [==============================] - 34s 1ms/step - loss: 9.6473 - iou_loss_core: 0.8857\n",
            "Epoch 32/100\n",
            "24000/24000 [==============================] - 34s 1ms/step - loss: 9.5235 - iou_loss_core: 0.8867\n",
            "Epoch 33/100\n",
            "24000/24000 [==============================] - 34s 1ms/step - loss: 9.5097 - iou_loss_core: 0.8868\n",
            "Epoch 34/100\n",
            "24000/24000 [==============================] - 34s 1ms/step - loss: 9.3414 - iou_loss_core: 0.8885\n",
            "Epoch 35/100\n",
            "24000/24000 [==============================] - 34s 1ms/step - loss: 9.2975 - iou_loss_core: 0.8889\n",
            "Epoch 36/100\n",
            "24000/24000 [==============================] - 35s 1ms/step - loss: 9.3165 - iou_loss_core: 0.8886\n",
            "Epoch 37/100\n",
            "24000/24000 [==============================] - 34s 1ms/step - loss: 9.1643 - iou_loss_core: 0.8902\n",
            "Epoch 38/100\n",
            "24000/24000 [==============================] - 34s 1ms/step - loss: 9.1071 - iou_loss_core: 0.8906\n",
            "Epoch 39/100\n",
            "24000/24000 [==============================] - 34s 1ms/step - loss: 8.9384 - iou_loss_core: 0.8922\n",
            "Epoch 40/100\n",
            "24000/24000 [==============================] - 34s 1ms/step - loss: 8.9407 - iou_loss_core: 0.8922\n",
            "Epoch 41/100\n",
            "24000/24000 [==============================] - 34s 1ms/step - loss: 8.8559 - iou_loss_core: 0.8929\n",
            "Epoch 42/100\n",
            "24000/24000 [==============================] - 35s 1ms/step - loss: 8.7858 - iou_loss_core: 0.8936\n",
            "Epoch 43/100\n",
            "24000/24000 [==============================] - 34s 1ms/step - loss: 8.7017 - iou_loss_core: 0.8942\n",
            "Epoch 44/100\n",
            "24000/24000 [==============================] - 34s 1ms/step - loss: 8.6677 - iou_loss_core: 0.8950\n",
            "Epoch 45/100\n",
            "24000/24000 [==============================] - 34s 1ms/step - loss: 8.5810 - iou_loss_core: 0.8956\n",
            "Epoch 46/100\n",
            "24000/24000 [==============================] - 34s 1ms/step - loss: 8.5372 - iou_loss_core: 0.8959\n",
            "Epoch 47/100\n",
            "24000/24000 [==============================] - 34s 1ms/step - loss: 8.5381 - iou_loss_core: 0.8960\n",
            "Epoch 48/100\n",
            "24000/24000 [==============================] - 34s 1ms/step - loss: 8.4419 - iou_loss_core: 0.8970\n",
            "Epoch 49/100\n",
            "24000/24000 [==============================] - 34s 1ms/step - loss: 8.4018 - iou_loss_core: 0.8974\n",
            "Epoch 50/100\n",
            "24000/24000 [==============================] - 34s 1ms/step - loss: 8.3553 - iou_loss_core: 0.8978\n",
            "Epoch 51/100\n",
            "24000/24000 [==============================] - 34s 1ms/step - loss: 8.2522 - iou_loss_core: 0.8988\n",
            "Epoch 52/100\n",
            "24000/24000 [==============================] - 34s 1ms/step - loss: 8.2041 - iou_loss_core: 0.8993\n",
            "Epoch 53/100\n",
            "24000/24000 [==============================] - 34s 1ms/step - loss: 8.1490 - iou_loss_core: 0.8996\n",
            "Epoch 54/100\n",
            "24000/24000 [==============================] - 34s 1ms/step - loss: 8.1580 - iou_loss_core: 0.8997\n",
            "Epoch 55/100\n",
            "24000/24000 [==============================] - 34s 1ms/step - loss: 8.1261 - iou_loss_core: 0.9001\n",
            "Epoch 56/100\n",
            "24000/24000 [==============================] - 34s 1ms/step - loss: 8.0292 - iou_loss_core: 0.9011\n",
            "Epoch 57/100\n",
            "24000/24000 [==============================] - 34s 1ms/step - loss: 7.9950 - iou_loss_core: 0.9014\n",
            "Epoch 58/100\n",
            "24000/24000 [==============================] - 34s 1ms/step - loss: 7.9631 - iou_loss_core: 0.9015\n",
            "Epoch 59/100\n",
            "24000/24000 [==============================] - 34s 1ms/step - loss: 7.9170 - iou_loss_core: 0.9019\n",
            "Epoch 60/100\n",
            "24000/24000 [==============================] - 35s 1ms/step - loss: 7.8886 - iou_loss_core: 0.9023\n",
            "Epoch 61/100\n",
            "24000/24000 [==============================] - 34s 1ms/step - loss: 7.8254 - iou_loss_core: 0.9028\n",
            "Epoch 62/100\n",
            "24000/24000 [==============================] - 34s 1ms/step - loss: 7.7559 - iou_loss_core: 0.9035\n",
            "Epoch 63/100\n",
            "24000/24000 [==============================] - 34s 1ms/step - loss: 7.7260 - iou_loss_core: 0.9041\n",
            "Epoch 64/100\n",
            "24000/24000 [==============================] - 34s 1ms/step - loss: 7.6924 - iou_loss_core: 0.9041\n",
            "Epoch 65/100\n",
            "24000/24000 [==============================] - 34s 1ms/step - loss: 7.6817 - iou_loss_core: 0.9044\n",
            "Epoch 66/100\n",
            "24000/24000 [==============================] - 34s 1ms/step - loss: 7.6009 - iou_loss_core: 0.9050\n",
            "Epoch 67/100\n",
            "24000/24000 [==============================] - 34s 1ms/step - loss: 7.5891 - iou_loss_core: 0.9052\n",
            "Epoch 68/100\n",
            "24000/24000 [==============================] - 35s 1ms/step - loss: 7.5622 - iou_loss_core: 0.9054\n",
            "Epoch 69/100\n",
            "24000/24000 [==============================] - 34s 1ms/step - loss: 7.5038 - iou_loss_core: 0.9061\n",
            "Epoch 70/100\n",
            "24000/24000 [==============================] - 34s 1ms/step - loss: 7.5045 - iou_loss_core: 0.9061\n",
            "Epoch 71/100\n",
            "24000/24000 [==============================] - 34s 1ms/step - loss: 7.4365 - iou_loss_core: 0.9068\n",
            "Epoch 72/100\n",
            "24000/24000 [==============================] - 34s 1ms/step - loss: 7.4106 - iou_loss_core: 0.9071\n",
            "Epoch 73/100\n",
            "24000/24000 [==============================] - 33s 1ms/step - loss: 7.3672 - iou_loss_core: 0.9075\n",
            "Epoch 74/100\n",
            "24000/24000 [==============================] - 34s 1ms/step - loss: 7.3689 - iou_loss_core: 0.9075\n",
            "Epoch 75/100\n",
            "24000/24000 [==============================] - 34s 1ms/step - loss: 7.3184 - iou_loss_core: 0.9080\n",
            "Epoch 76/100\n",
            "24000/24000 [==============================] - 34s 1ms/step - loss: 7.2769 - iou_loss_core: 0.9083\n",
            "Epoch 77/100\n",
            "24000/24000 [==============================] - 34s 1ms/step - loss: 7.3035 - iou_loss_core: 0.9081\n",
            "Epoch 78/100\n",
            "24000/24000 [==============================] - 34s 1ms/step - loss: 7.2387 - iou_loss_core: 0.9089\n",
            "Epoch 79/100\n",
            "24000/24000 [==============================] - 34s 1ms/step - loss: 7.2182 - iou_loss_core: 0.9088\n",
            "Epoch 80/100\n",
            "24000/24000 [==============================] - 34s 1ms/step - loss: 7.1826 - iou_loss_core: 0.9093\n",
            "Epoch 81/100\n",
            "24000/24000 [==============================] - 34s 1ms/step - loss: 7.1598 - iou_loss_core: 0.9095\n",
            "Epoch 82/100\n",
            "24000/24000 [==============================] - 34s 1ms/step - loss: 7.1554 - iou_loss_core: 0.9096\n",
            "Epoch 83/100\n",
            "24000/24000 [==============================] - 34s 1ms/step - loss: 7.0779 - iou_loss_core: 0.9104\n",
            "Epoch 84/100\n",
            "24000/24000 [==============================] - 35s 1ms/step - loss: 7.0637 - iou_loss_core: 0.9103\n",
            "Epoch 85/100\n",
            "24000/24000 [==============================] - 34s 1ms/step - loss: 7.0738 - iou_loss_core: 0.9103\n",
            "Epoch 86/100\n",
            "24000/24000 [==============================] - 34s 1ms/step - loss: 6.9600 - iou_loss_core: 0.9116\n",
            "Epoch 87/100\n",
            "24000/24000 [==============================] - 34s 1ms/step - loss: 6.9786 - iou_loss_core: 0.9113\n",
            "Epoch 88/100\n",
            "24000/24000 [==============================] - 34s 1ms/step - loss: 6.9376 - iou_loss_core: 0.9120\n",
            "Epoch 89/100\n",
            "24000/24000 [==============================] - 34s 1ms/step - loss: 6.9717 - iou_loss_core: 0.9113\n",
            "Epoch 90/100\n",
            "24000/24000 [==============================] - 34s 1ms/step - loss: 6.9145 - iou_loss_core: 0.9119\n",
            "Epoch 91/100\n",
            "24000/24000 [==============================] - 34s 1ms/step - loss: 6.8777 - iou_loss_core: 0.9124\n",
            "Epoch 92/100\n",
            "24000/24000 [==============================] - 35s 1ms/step - loss: 6.8963 - iou_loss_core: 0.9122\n",
            "Epoch 93/100\n",
            "24000/24000 [==============================] - 34s 1ms/step - loss: 6.8405 - iou_loss_core: 0.9128\n",
            "Epoch 94/100\n",
            "24000/24000 [==============================] - 34s 1ms/step - loss: 6.8209 - iou_loss_core: 0.9130\n",
            "Epoch 95/100\n",
            "24000/24000 [==============================] - 34s 1ms/step - loss: 6.8020 - iou_loss_core: 0.9132\n",
            "Epoch 96/100\n",
            "24000/24000 [==============================] - 34s 1ms/step - loss: 6.7848 - iou_loss_core: 0.9133\n",
            "Epoch 97/100\n",
            "24000/24000 [==============================] - 34s 1ms/step - loss: 6.7862 - iou_loss_core: 0.9134\n",
            "Epoch 98/100\n",
            "24000/24000 [==============================] - 35s 1ms/step - loss: 6.7258 - iou_loss_core: 0.9140\n",
            "Epoch 99/100\n",
            "24000/24000 [==============================] - 34s 1ms/step - loss: 6.7243 - iou_loss_core: 0.9138\n",
            "Epoch 100/100\n",
            "24000/24000 [==============================] - 34s 1ms/step - loss: 6.7003 - iou_loss_core: 0.9142\n"
          ],
          "name": "stdout"
        },
        {
          "output_type": "execute_result",
          "data": {
            "text/plain": [
              "<keras.callbacks.History at 0x7faf9151eba8>"
            ]
          },
          "metadata": {
            "tags": []
          },
          "execution_count": 93
        }
      ]
    },
    {
      "metadata": {
        "id": "9gWOJq8XjD-_",
        "colab_type": "code",
        "outputId": "a255a271-f7e5-48e1-aec7-8b4712be66f8",
        "colab": {
          "base_uri": "https://localhost:8080/",
          "height": 35
        }
      },
      "cell_type": "code",
      "source": [
        "import gc\n",
        "gc.collect()"
      ],
      "execution_count": 94,
      "outputs": [
        {
          "output_type": "execute_result",
          "data": {
            "text/plain": [
              "0"
            ]
          },
          "metadata": {
            "tags": []
          },
          "execution_count": 94
        }
      ]
    },
    {
      "metadata": {
        "id": "ctm4ggiuZI7p",
        "colab_type": "code",
        "outputId": "94d1bf7f-3306-4a5d-8409-2e49e70c13f1",
        "colab": {
          "base_uri": "https://localhost:8080/",
          "height": 35
        }
      },
      "cell_type": "code",
      "source": [
        "images_test = os.listdir('../content/TestImages_Round_3/')\n",
        "len(images_test)"
      ],
      "execution_count": 32,
      "outputs": [
        {
          "output_type": "execute_result",
          "data": {
            "text/plain": [
              "24045"
            ]
          },
          "metadata": {
            "tags": []
          },
          "execution_count": 32
        }
      ]
    },
    {
      "metadata": {
        "id": "18eTwTi9ZiSF",
        "colab_type": "code",
        "outputId": "67a360f6-2c18-4c72-c8ca-a3020cca9b55",
        "colab": {
          "base_uri": "https://localhost:8080/",
          "height": 206
        }
      },
      "cell_type": "code",
      "source": [
        "df_test = pd.DataFrame(pd.read_csv('../content/test_round_3.csv'))\n",
        "df_test.head()"
      ],
      "execution_count": 33,
      "outputs": [
        {
          "output_type": "execute_result",
          "data": {
            "text/html": [
              "<div>\n",
              "<style scoped>\n",
              "    .dataframe tbody tr th:only-of-type {\n",
              "        vertical-align: middle;\n",
              "    }\n",
              "\n",
              "    .dataframe tbody tr th {\n",
              "        vertical-align: top;\n",
              "    }\n",
              "\n",
              "    .dataframe thead th {\n",
              "        text-align: right;\n",
              "    }\n",
              "</style>\n",
              "<table border=\"1\" class=\"dataframe\">\n",
              "  <thead>\n",
              "    <tr style=\"text-align: right;\">\n",
              "      <th></th>\n",
              "      <th>image_name</th>\n",
              "      <th>x1</th>\n",
              "      <th>x2</th>\n",
              "      <th>y1</th>\n",
              "      <th>y2</th>\n",
              "    </tr>\n",
              "  </thead>\n",
              "  <tbody>\n",
              "    <tr>\n",
              "      <th>0</th>\n",
              "      <td>1467891670691DSC_0582.png</td>\n",
              "      <td>NaN</td>\n",
              "      <td>NaN</td>\n",
              "      <td>NaN</td>\n",
              "      <td>NaN</td>\n",
              "    </tr>\n",
              "    <tr>\n",
              "      <th>1</th>\n",
              "      <td>1475151786691DSC00560.png</td>\n",
              "      <td>NaN</td>\n",
              "      <td>NaN</td>\n",
              "      <td>NaN</td>\n",
              "      <td>NaN</td>\n",
              "    </tr>\n",
              "    <tr>\n",
              "      <th>2</th>\n",
              "      <td>1480334114405_R2A3620.png</td>\n",
              "      <td>NaN</td>\n",
              "      <td>NaN</td>\n",
              "      <td>NaN</td>\n",
              "      <td>NaN</td>\n",
              "    </tr>\n",
              "    <tr>\n",
              "      <th>3</th>\n",
              "      <td>JPEG_20160712_161047_1000606860114.png</td>\n",
              "      <td>NaN</td>\n",
              "      <td>NaN</td>\n",
              "      <td>NaN</td>\n",
              "      <td>NaN</td>\n",
              "    </tr>\n",
              "    <tr>\n",
              "      <th>4</th>\n",
              "      <td>JPEG_20160403_174522_-1137349501.png</td>\n",
              "      <td>NaN</td>\n",
              "      <td>NaN</td>\n",
              "      <td>NaN</td>\n",
              "      <td>NaN</td>\n",
              "    </tr>\n",
              "  </tbody>\n",
              "</table>\n",
              "</div>"
            ],
            "text/plain": [
              "                               image_name  x1  x2  y1  y2\n",
              "0               1467891670691DSC_0582.png NaN NaN NaN NaN\n",
              "1               1475151786691DSC00560.png NaN NaN NaN NaN\n",
              "2               1480334114405_R2A3620.png NaN NaN NaN NaN\n",
              "3  JPEG_20160712_161047_1000606860114.png NaN NaN NaN NaN\n",
              "4    JPEG_20160403_174522_-1137349501.png NaN NaN NaN NaN"
            ]
          },
          "metadata": {
            "tags": []
          },
          "execution_count": 33
        }
      ]
    },
    {
      "metadata": {
        "id": "CE1i_chPZywR",
        "colab_type": "code",
        "outputId": "17e4c75a-ef91-4fa7-bcdb-11a77110e1ba",
        "colab": {
          "base_uri": "https://localhost:8080/",
          "height": 128
        }
      },
      "cell_type": "code",
      "source": [
        "df_test_copy = df_test.copy()\n",
        "df_test_copy.count()"
      ],
      "execution_count": 34,
      "outputs": [
        {
          "output_type": "execute_result",
          "data": {
            "text/plain": [
              "image_name    24045\n",
              "x1                0\n",
              "x2                0\n",
              "y1                0\n",
              "y2                0\n",
              "dtype: int64"
            ]
          },
          "metadata": {
            "tags": []
          },
          "execution_count": 34
        }
      ]
    },
    {
      "metadata": {
        "id": "JqHzIK5_Z6bg",
        "colab_type": "code",
        "colab": {}
      },
      "cell_type": "code",
      "source": [
        "df_test_copy.insert(column='np_image',value = ([cv2.resize(cv2.imread('../content/TestImages_Round_3/' + i,0),(80,60))\n",
        "                                                for i in df_test_copy['image_name']]) , \n",
        "                                                loc = len(df_test_copy.columns))"
      ],
      "execution_count": 0,
      "outputs": []
    },
    {
      "metadata": {
        "id": "L-ERX5yJaEdQ",
        "colab_type": "code",
        "outputId": "4ca3a632-89e6-466d-b182-b4ef74014a17",
        "colab": {
          "base_uri": "https://localhost:8080/",
          "height": 146
        }
      },
      "cell_type": "code",
      "source": [
        "X = df_test_copy.iloc[:,-1]\n",
        "print(X.head())\n",
        "X_To_Test = np.array(X)\n",
        "X_To_Test.shape"
      ],
      "execution_count": 36,
      "outputs": [
        {
          "output_type": "stream",
          "text": [
            "0    [[255, 255, 255, 255, 255, 255, 255, 255, 255,...\n",
            "1    [[169, 172, 172, 171, 175, 175, 183, 188, 188,...\n",
            "2    [[31, 32, 33, 64, 197, 216, 216, 214, 215, 217...\n",
            "3    [[5, 5, 5, 9, 11, 12, 11, 14, 14, 14, 15, 15, ...\n",
            "4    [[119, 120, 120, 122, 125, 125, 128, 130, 133,...\n",
            "Name: np_image, dtype: object\n"
          ],
          "name": "stdout"
        },
        {
          "output_type": "execute_result",
          "data": {
            "text/plain": [
              "(24045,)"
            ]
          },
          "metadata": {
            "tags": []
          },
          "execution_count": 36
        }
      ]
    },
    {
      "metadata": {
        "id": "ZxlnwdBGaVBE",
        "colab_type": "code",
        "outputId": "5e769f0d-f5f6-4ea7-b70d-f6184fbbc3b3",
        "colab": {
          "base_uri": "https://localhost:8080/",
          "height": 35
        }
      },
      "cell_type": "code",
      "source": [
        "X_final_test_for_model = np.array([X_To_Test[i].reshape(X_To_Test[i].shape[0],X_To_Test[i].shape[1],1) for i in range(X_To_Test.shape[0])])\n",
        "X_final_test_for_model.shape"
      ],
      "execution_count": 37,
      "outputs": [
        {
          "output_type": "execute_result",
          "data": {
            "text/plain": [
              "(24045, 60, 80, 1)"
            ]
          },
          "metadata": {
            "tags": []
          },
          "execution_count": 37
        }
      ]
    },
    {
      "metadata": {
        "id": "MzuZqNdraZ15",
        "colab_type": "code",
        "outputId": "7aeabce9-8886-4dbc-867c-bded375e2908",
        "colab": {
          "base_uri": "https://localhost:8080/",
          "height": 35
        }
      },
      "cell_type": "code",
      "source": [
        "Y_pred = np.rint(model.predict(X_final_test_for_model, batch_size=100))\n",
        "type(Y_pred)"
      ],
      "execution_count": 95,
      "outputs": [
        {
          "output_type": "execute_result",
          "data": {
            "text/plain": [
              "numpy.ndarray"
            ]
          },
          "metadata": {
            "tags": []
          },
          "execution_count": 95
        }
      ]
    },
    {
      "metadata": {
        "id": "VmMBOG7BadKu",
        "colab_type": "code",
        "outputId": "1801942f-3444-4193-9189-17804a2c615c",
        "colab": {
          "base_uri": "https://localhost:8080/",
          "height": 35
        }
      },
      "cell_type": "code",
      "source": [
        "final_dataframe = df_test.copy()\n",
        "final_dataframe.iloc[0,1]"
      ],
      "execution_count": 96,
      "outputs": [
        {
          "output_type": "execute_result",
          "data": {
            "text/plain": [
              "nan"
            ]
          },
          "metadata": {
            "tags": []
          },
          "execution_count": 96
        }
      ]
    },
    {
      "metadata": {
        "id": "awridO_xalgx",
        "colab_type": "code",
        "outputId": "20179947-f8c4-43ee-86ce-7ea8c9e50f9f",
        "colab": {
          "base_uri": "https://localhost:8080/",
          "height": 206
        }
      },
      "cell_type": "code",
      "source": [
        "for i in range(Y_pred.shape[0]):\n",
        "    for j in range(Y_pred.shape[1]):\n",
        "        final_dataframe.iloc[i,j+1] = Y_pred[i,j]\n",
        "final_dataframe.head()"
      ],
      "execution_count": 97,
      "outputs": [
        {
          "output_type": "execute_result",
          "data": {
            "text/html": [
              "<div>\n",
              "<style scoped>\n",
              "    .dataframe tbody tr th:only-of-type {\n",
              "        vertical-align: middle;\n",
              "    }\n",
              "\n",
              "    .dataframe tbody tr th {\n",
              "        vertical-align: top;\n",
              "    }\n",
              "\n",
              "    .dataframe thead th {\n",
              "        text-align: right;\n",
              "    }\n",
              "</style>\n",
              "<table border=\"1\" class=\"dataframe\">\n",
              "  <thead>\n",
              "    <tr style=\"text-align: right;\">\n",
              "      <th></th>\n",
              "      <th>image_name</th>\n",
              "      <th>x1</th>\n",
              "      <th>x2</th>\n",
              "      <th>y1</th>\n",
              "      <th>y2</th>\n",
              "    </tr>\n",
              "  </thead>\n",
              "  <tbody>\n",
              "    <tr>\n",
              "      <th>0</th>\n",
              "      <td>1467891670691DSC_0582.png</td>\n",
              "      <td>72.0</td>\n",
              "      <td>558.0</td>\n",
              "      <td>78.0</td>\n",
              "      <td>419.0</td>\n",
              "    </tr>\n",
              "    <tr>\n",
              "      <th>1</th>\n",
              "      <td>1475151786691DSC00560.png</td>\n",
              "      <td>217.0</td>\n",
              "      <td>411.0</td>\n",
              "      <td>122.0</td>\n",
              "      <td>418.0</td>\n",
              "    </tr>\n",
              "    <tr>\n",
              "      <th>2</th>\n",
              "      <td>1480334114405_R2A3620.png</td>\n",
              "      <td>203.0</td>\n",
              "      <td>423.0</td>\n",
              "      <td>96.0</td>\n",
              "      <td>363.0</td>\n",
              "    </tr>\n",
              "    <tr>\n",
              "      <th>3</th>\n",
              "      <td>JPEG_20160712_161047_1000606860114.png</td>\n",
              "      <td>183.0</td>\n",
              "      <td>503.0</td>\n",
              "      <td>57.0</td>\n",
              "      <td>412.0</td>\n",
              "    </tr>\n",
              "    <tr>\n",
              "      <th>4</th>\n",
              "      <td>JPEG_20160403_174522_-1137349501.png</td>\n",
              "      <td>97.0</td>\n",
              "      <td>518.0</td>\n",
              "      <td>56.0</td>\n",
              "      <td>379.0</td>\n",
              "    </tr>\n",
              "  </tbody>\n",
              "</table>\n",
              "</div>"
            ],
            "text/plain": [
              "                               image_name     x1     x2     y1     y2\n",
              "0               1467891670691DSC_0582.png   72.0  558.0   78.0  419.0\n",
              "1               1475151786691DSC00560.png  217.0  411.0  122.0  418.0\n",
              "2               1480334114405_R2A3620.png  203.0  423.0   96.0  363.0\n",
              "3  JPEG_20160712_161047_1000606860114.png  183.0  503.0   57.0  412.0\n",
              "4    JPEG_20160403_174522_-1137349501.png   97.0  518.0   56.0  379.0"
            ]
          },
          "metadata": {
            "tags": []
          },
          "execution_count": 97
        }
      ]
    },
    {
      "metadata": {
        "id": "KdQ9G3Bnap_p",
        "colab_type": "code",
        "colab": {}
      },
      "cell_type": "code",
      "source": [
        "final_dataframe.to_csv('result.csv', header=True, index = False)"
      ],
      "execution_count": 0,
      "outputs": []
    }
  ]
}